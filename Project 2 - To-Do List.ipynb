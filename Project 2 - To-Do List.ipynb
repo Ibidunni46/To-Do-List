{
 "cells": [
  {
   "cell_type": "markdown",
   "id": "85bd543a-30ec-4e82-8f74-65ee65c69038",
   "metadata": {},
   "source": [
    "## To-Do List"
   ]
  },
  {
   "cell_type": "markdown",
   "id": "4e17b266-2957-4307-b815-1f42d066cb0e",
   "metadata": {},
   "source": [
    "**This is a simple Python To-Do List application that helps users manage daily tasks. You can;**\n",
    "- **View**\n",
    "- **Add**\n",
    "- **Delete**\n",
    "- **Complete tasks easily using the command line**"
   ]
  },
  {
   "cell_type": "code",
   "execution_count": null,
   "id": "8f5e2100-a3bd-4ca0-bbc7-673db4890f81",
   "metadata": {},
   "outputs": [
    {
     "name": "stdin",
     "output_type": "stream",
     "text": [
      "What is your name? \n",
      " Damola\n"
     ]
    },
    {
     "name": "stdout",
     "output_type": "stream",
     "text": [
      "\n",
      "**** To-Do List ****\n",
      "1. View Task\n",
      "2. Add Task\n",
      "3. Delete Task\n",
      "4. Exit\n"
     ]
    },
    {
     "name": "stdin",
     "output_type": "stream",
     "text": [
      "Choose an option (1-4): \n",
      " @\n"
     ]
    },
    {
     "name": "stdout",
     "output_type": "stream",
     "text": [
      "Enter a valid number\n",
      "\n",
      "**** To-Do List ****\n",
      "1. View Task\n",
      "2. Add Task\n",
      "3. Delete Task\n",
      "4. Exit\n"
     ]
    },
    {
     "name": "stdin",
     "output_type": "stream",
     "text": [
      "Choose an option (1-4): \n",
      " Write my diary\n"
     ]
    },
    {
     "name": "stdout",
     "output_type": "stream",
     "text": [
      "Enter a valid number\n",
      "\n",
      "**** To-Do List ****\n",
      "1. View Task\n",
      "2. Add Task\n",
      "3. Delete Task\n",
      "4. Exit\n"
     ]
    },
    {
     "name": "stdin",
     "output_type": "stream",
     "text": [
      "Choose an option (1-4): \n",
      " 2\n",
      "Enter task:  Watch tutorial videos\n"
     ]
    },
    {
     "name": "stdout",
     "output_type": "stream",
     "text": [
      "Task added.\n",
      "\n",
      "**** To-Do List ****\n",
      "1. View Task\n",
      "2. Add Task\n",
      "3. Delete Task\n",
      "4. Exit\n"
     ]
    },
    {
     "name": "stdin",
     "output_type": "stream",
     "text": [
      "Choose an option (1-4): \n",
      " 1\n"
     ]
    },
    {
     "name": "stdout",
     "output_type": "stream",
     "text": [
      "1.Watch tutorial videos\n",
      "\n",
      "**** To-Do List ****\n",
      "1. View Task\n",
      "2. Add Task\n",
      "3. Delete Task\n",
      "4. Exit\n"
     ]
    }
   ],
   "source": [
    "todo_list = []\n",
    "def show_tasks():\n",
    "    if not todo_list():\n",
    "        print(\"No tasks yet\")\n",
    "    else:\n",
    "        for l, task in enumerate(todo_list, 1):\n",
    "            print(f\"{l}.{task}\")\n",
    "\n",
    "def add_task(task):\n",
    "    todo_list.append(task)\n",
    "    print(\"Task added.\")\n",
    "\n",
    "def delete_task(index):\n",
    "    if 0 < index <= len(todo_list):\n",
    "        removed = todo_list.pop(index - 1)\n",
    "        print(f\"Deleted: {removed}\")\n",
    "    else:\n",
    "        print(f\"Invalid task number\")\n",
    "\n",
    "name = input(\"What is your name? \\n\")\n",
    "\n",
    "\n",
    "while True:\n",
    "    print(\"\\n**** To-Do List ****\")\n",
    "    print(\"1. View Task\")\n",
    "    print(\"2. Add Task\")\n",
    "    print(\"3. Delete Task\")\n",
    "    print(\"4. Exit\")\n",
    "\n",
    "\n",
    "    choice = input(\"Choose an option (1-4): \\n\")\n",
    "\n",
    "    if choice == \"1\":\n",
    "        show_tasks()\n",
    "    elif choice == \"2\":\n",
    "        task = input(\"Enter task: \")\n",
    "        add_task(task)\n",
    "    elif choice == \"3\":\n",
    "        show_tasks()\n",
    "        try:\n",
    "            idx = int(input(\"Enter the task number to be deleted: \"))\n",
    "            delete_task(idx)\n",
    "        except ValueError:\n",
    "            print(\"Enter a valid task number\")\n",
    "        \n",
    "    elif choice == \"4\":\n",
    "        print(f\"Goodbye, {name}\")\n",
    "        break\n",
    "    else:\n",
    "        print(\"Enter a valid number\")\n"
   ]
  },
  {
   "cell_type": "code",
   "execution_count": null,
   "id": "faf11c65-837b-4332-ab5d-346db8af8e57",
   "metadata": {},
   "outputs": [],
   "source": []
  }
 ],
 "metadata": {
  "kernelspec": {
   "display_name": "Python [conda env:base] *",
   "language": "python",
   "name": "conda-base-py"
  },
  "language_info": {
   "codemirror_mode": {
    "name": "ipython",
    "version": 3
   },
   "file_extension": ".py",
   "mimetype": "text/x-python",
   "name": "python",
   "nbconvert_exporter": "python",
   "pygments_lexer": "ipython3",
   "version": "3.12.7"
  }
 },
 "nbformat": 4,
 "nbformat_minor": 5
}
